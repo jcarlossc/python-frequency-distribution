{
 "cells": [
  {
   "cell_type": "markdown",
   "id": "12a17767",
   "metadata": {
    "papermill": {
     "duration": 0.004073,
     "end_time": "2025-10-31T02:41:43.097520",
     "exception": false,
     "start_time": "2025-10-31T02:41:43.093447",
     "status": "completed"
    },
    "tags": []
   },
   "source": [
    "<h1>📌 Operações Estatísticas em Pandas</h1>\n",
    "\n",
    "<p style='font-size:16px;'>O Pandas é uma das bibliotecas mais poderosas do Python para manipulação e análise de dados. Ele oferece diversas funções estatísticas prontas, que permitem entender melhor os seus dados sem precisar de cálculos manuais ou uso de planilhas.</p>\n",
    "<p style='font-size:16px;'>Neste notebook, vamos explorar as principais operações estatísticas que você pode realizar com o Pandas</p>\n",
    "\n",
    "<h4>📌 Autor: Carlos da Costa</h4>\n",
    "📌Recife, PE - Brasil<br>\n",
    "📌Telefone: +55 81 99712 9140<br>\n",
    "📌Telegram: @jcarlossc<br>\n",
    "📌Blogger linguagem R: https://informaticus77-r.blogspot.com/<br>\n",
    "📌Blogger linguagem Python: https://informaticus77-python.blogspot.com/<br>\n",
    "📌Email: jcarlossc1977@gmail.com<br>\n",
    "📌Portfólio em construção: https://portfolio-carlos-costa.netlify.app/<br>\n",
    "📌LinkedIn: https://www.linkedin.com/in/carlos-da-costa-669252149/<br>\n",
    "📌GitHub: https://github.com/jcarlossc<br>\n",
    "📌Kaggle: https://www.kaggle.com/jcarlossc/<br>\n",
    "📌Twitter/X: https://x.com/jcarlossc1977<br>"
   ]
  },
  {
   "cell_type": "code",
   "execution_count": 1,
   "id": "b3575e32",
   "metadata": {
    "execution": {
     "iopub.execute_input": "2025-10-31T02:41:43.104289Z",
     "iopub.status.busy": "2025-10-31T02:41:43.103965Z",
     "iopub.status.idle": "2025-10-31T02:41:44.888015Z",
     "shell.execute_reply": "2025-10-31T02:41:44.887123Z"
    },
    "papermill": {
     "duration": 1.789146,
     "end_time": "2025-10-31T02:41:44.889446",
     "exception": false,
     "start_time": "2025-10-31T02:41:43.100300",
     "status": "completed"
    },
    "tags": []
   },
   "outputs": [],
   "source": [
    "# Importação da biblioteca Pandas.\n",
    "import pandas as pd"
   ]
  },
  {
   "cell_type": "markdown",
   "id": "d0b44ef3",
   "metadata": {
    "papermill": {
     "duration": 0.00199,
     "end_time": "2025-10-31T02:41:44.894077",
     "exception": false,
     "start_time": "2025-10-31T02:41:44.892087",
     "status": "completed"
    },
    "tags": []
   },
   "source": [
    "<h2>📌 Criando um DataFrame</h2>\n",
    "<p style='font-size:16px;'>Antes de começar, precisamos criar um pequeno conjunto de dados (DataFrame):</p>"
   ]
  },
  {
   "cell_type": "code",
   "execution_count": 2,
   "id": "a3284ec8",
   "metadata": {
    "execution": {
     "iopub.execute_input": "2025-10-31T02:41:44.899738Z",
     "iopub.status.busy": "2025-10-31T02:41:44.899423Z",
     "iopub.status.idle": "2025-10-31T02:41:44.907311Z",
     "shell.execute_reply": "2025-10-31T02:41:44.906657Z"
    },
    "papermill": {
     "duration": 0.013152,
     "end_time": "2025-10-31T02:41:44.909440",
     "exception": false,
     "start_time": "2025-10-31T02:41:44.896288",
     "status": "completed"
    },
    "tags": []
   },
   "outputs": [],
   "source": [
    "dados = pd.DataFrame(\n",
    "    { \"idade\": [23, 25, 31, 35, 40, 29, 23, 37, 41, 30], \n",
    "     \"salario\": [2500, 2700, 3200, 4000, 5000, 3100, 2600, 4500, 5200, 3300], \n",
    "     \"departamento\": [\"RH\", \"RH\", \"TI\", \"TI\", \"Financeiro\", \"TI\", \"RH\", \"Financeiro\", \"Financeiro\", \"TI\"] }\n",
    ")"
   ]
  },
  {
   "cell_type": "code",
   "execution_count": 3,
   "id": "a73c85f8",
   "metadata": {
    "execution": {
     "iopub.execute_input": "2025-10-31T02:41:44.917486Z",
     "iopub.status.busy": "2025-10-31T02:41:44.917182Z",
     "iopub.status.idle": "2025-10-31T02:41:44.933217Z",
     "shell.execute_reply": "2025-10-31T02:41:44.931984Z"
    },
    "papermill": {
     "duration": 0.021607,
     "end_time": "2025-10-31T02:41:44.934779",
     "exception": false,
     "start_time": "2025-10-31T02:41:44.913172",
     "status": "completed"
    },
    "tags": []
   },
   "outputs": [
    {
     "name": "stdout",
     "output_type": "stream",
     "text": [
      "   idade  salario departamento\n",
      "0     23     2500           RH\n",
      "1     25     2700           RH\n",
      "2     31     3200           TI\n",
      "3     35     4000           TI\n",
      "4     40     5000   Financeiro\n",
      "5     29     3100           TI\n",
      "6     23     2600           RH\n",
      "7     37     4500   Financeiro\n",
      "8     41     5200   Financeiro\n",
      "9     30     3300           TI\n"
     ]
    }
   ],
   "source": [
    "print(dados)"
   ]
  },
  {
   "cell_type": "markdown",
   "id": "6cac5f4a",
   "metadata": {
    "papermill": {
     "duration": 0.002105,
     "end_time": "2025-10-31T02:41:44.939592",
     "exception": false,
     "start_time": "2025-10-31T02:41:44.937487",
     "status": "completed"
    },
    "tags": []
   },
   "source": [
    "<h2>📌 Estatísticas Descritivas</h2>\n",
    "\n",
    "<p style='font-size:16px;'>Com o método describe(), é possível visualizar rapidamente algumas medidas de posição e dispersão:</p>"
   ]
  },
  {
   "cell_type": "code",
   "execution_count": 4,
   "id": "7717ce79",
   "metadata": {
    "execution": {
     "iopub.execute_input": "2025-10-31T02:41:44.946380Z",
     "iopub.status.busy": "2025-10-31T02:41:44.945639Z",
     "iopub.status.idle": "2025-10-31T02:41:44.969577Z",
     "shell.execute_reply": "2025-10-31T02:41:44.968145Z"
    },
    "papermill": {
     "duration": 0.029205,
     "end_time": "2025-10-31T02:41:44.971071",
     "exception": false,
     "start_time": "2025-10-31T02:41:44.941866",
     "status": "completed"
    },
    "tags": []
   },
   "outputs": [
    {
     "name": "stdout",
     "output_type": "stream",
     "text": [
      "           idade      salario\n",
      "count  10.000000    10.000000\n",
      "mean   31.400000  3610.000000\n",
      "std     6.669999  1000.499875\n",
      "min    23.000000  2500.000000\n",
      "25%    26.000000  2800.000000\n",
      "50%    30.500000  3250.000000\n",
      "75%    36.500000  4375.000000\n",
      "max    41.000000  5200.000000\n"
     ]
    }
   ],
   "source": [
    "print(dados.describe())\n",
    "# count: quantidade de observações\n",
    "# mean: média aritmética\n",
    "# std: desvio padrão\n",
    "# min: valor menos\n",
    "# 25%: primeiro quartil\n",
    "# 50%: segundo quartil ou mediana\n",
    "# 75%: terceiro quartil\n",
    "# max: valor máximo"
   ]
  },
  {
   "cell_type": "markdown",
   "id": "231686ef",
   "metadata": {
    "papermill": {
     "duration": 0.002362,
     "end_time": "2025-10-31T02:41:44.976426",
     "exception": false,
     "start_time": "2025-10-31T02:41:44.974064",
     "status": "completed"
    },
    "tags": []
   },
   "source": [
    "<h2>📌 Medidas de Tendência Central</h2>\n",
    "\n",
    "<p style='font-size:16px;'>Essas medidas ajudam a entender o comportamento médio dos dados:</p>"
   ]
  },
  {
   "cell_type": "code",
   "execution_count": 5,
   "id": "e243ec43",
   "metadata": {
    "execution": {
     "iopub.execute_input": "2025-10-31T02:41:44.983755Z",
     "iopub.status.busy": "2025-10-31T02:41:44.982670Z",
     "iopub.status.idle": "2025-10-31T02:41:44.994546Z",
     "shell.execute_reply": "2025-10-31T02:41:44.993103Z"
    },
    "papermill": {
     "duration": 0.016872,
     "end_time": "2025-10-31T02:41:44.995830",
     "exception": false,
     "start_time": "2025-10-31T02:41:44.978958",
     "status": "completed"
    },
    "tags": []
   },
   "outputs": [
    {
     "name": "stdout",
     "output_type": "stream",
     "text": [
      "Média: 31.4\n",
      "Mediana: 30.5\n",
      "Moda: 23\n"
     ]
    }
   ],
   "source": [
    "# Média → soma de todos os valores dividida pela quantidade:\n",
    "print(\"Média:\", dados[\"idade\"].mean()) \n",
    "\n",
    "# Mediana → valor central da amostra ordenada:\n",
    "print(\"Mediana:\", dados[\"idade\"].median()) \n",
    "\n",
    "# Moda → valor mais frequente:\n",
    "print(\"Moda:\", dados[\"idade\"].mode().values[0])"
   ]
  },
  {
   "cell_type": "markdown",
   "id": "952fd4d4",
   "metadata": {
    "papermill": {
     "duration": 0.002345,
     "end_time": "2025-10-31T02:41:45.001264",
     "exception": false,
     "start_time": "2025-10-31T02:41:44.998919",
     "status": "completed"
    },
    "tags": []
   },
   "source": [
    "<h2>📌 Medidas de Dispersão</h2>\n",
    "\n",
    "<p style='font-size:16px;'>Essas medidas indicam o quanto os dados estão espalhados:</p>\n",
    "<p style='font-size:16px;'>Quanto maior o desvio padrão, mais os valores se afastam da média.</p>"
   ]
  },
  {
   "cell_type": "code",
   "execution_count": 6,
   "id": "cf9d3bc1",
   "metadata": {
    "execution": {
     "iopub.execute_input": "2025-10-31T02:41:45.008664Z",
     "iopub.status.busy": "2025-10-31T02:41:45.007510Z",
     "iopub.status.idle": "2025-10-31T02:41:45.015094Z",
     "shell.execute_reply": "2025-10-31T02:41:45.013724Z"
    },
    "papermill": {
     "duration": 0.012895,
     "end_time": "2025-10-31T02:41:45.016715",
     "exception": false,
     "start_time": "2025-10-31T02:41:45.003820",
     "status": "completed"
    },
    "tags": []
   },
   "outputs": [
    {
     "name": "stdout",
     "output_type": "stream",
     "text": [
      "Desvio padrão: 1000.499875062461\n",
      "Variância: 1001000.0\n"
     ]
    }
   ],
   "source": [
    "# Desvio padrão:\n",
    "print(\"Desvio padrão:\", dados[\"salario\"].std()) \n",
    "\n",
    "# Variância:\n",
    "print(\"Variância:\", dados[\"salario\"].var())"
   ]
  },
  {
   "cell_type": "markdown",
   "id": "044a6a2b",
   "metadata": {
    "papermill": {
     "duration": 0.002309,
     "end_time": "2025-10-31T02:41:45.022026",
     "exception": false,
     "start_time": "2025-10-31T02:41:45.019717",
     "status": "completed"
    },
    "tags": []
   },
   "source": [
    "<h2>📌 Estatísticas por Grupo</h2>\n",
    "\n",
    "<p style='font-size:16px;'>O método groupby() é essencial para comparar grupos dentro dos dados:</p>\n",
    "\n",
    "<p style='font-size:16px;'>Esse exemplo mostra a média salarial por departamento, algo muito útil em relatórios corporativos e análises financeiras.</p>"
   ]
  },
  {
   "cell_type": "code",
   "execution_count": 7,
   "id": "328dfafc",
   "metadata": {
    "execution": {
     "iopub.execute_input": "2025-10-31T02:41:45.029250Z",
     "iopub.status.busy": "2025-10-31T02:41:45.028346Z",
     "iopub.status.idle": "2025-10-31T02:41:45.045996Z",
     "shell.execute_reply": "2025-10-31T02:41:45.044812Z"
    },
    "papermill": {
     "duration": 0.02316,
     "end_time": "2025-10-31T02:41:45.047645",
     "exception": false,
     "start_time": "2025-10-31T02:41:45.024485",
     "status": "completed"
    },
    "tags": []
   },
   "outputs": [
    {
     "name": "stdout",
     "output_type": "stream",
     "text": [
      "departamento\n",
      "Financeiro    4900.0\n",
      "RH            2600.0\n",
      "TI            3400.0\n",
      "Name: salario, dtype: float64\n"
     ]
    }
   ],
   "source": [
    "# Média de salário por departamento:\n",
    "print(dados.groupby(\"departamento\")[\"salario\"].mean())"
   ]
  },
  {
   "cell_type": "markdown",
   "id": "514b51ac",
   "metadata": {
    "papermill": {
     "duration": 0.002799,
     "end_time": "2025-10-31T02:41:45.053780",
     "exception": false,
     "start_time": "2025-10-31T02:41:45.050981",
     "status": "completed"
    },
    "tags": []
   },
   "source": [
    "<h2>📌 Correlação</h2>\n",
    "\n",
    "<p style='font-size:16px;'>Para verificar se duas variáveis estão relacionadas, usamos:<p>\n",
    "\n",
    "<p style='font-size:16px;'>Uma correlação próxima de 1 indica relação positiva forte, enquanto próxima de -1 indica relação negativa.</p>"
   ]
  },
  {
   "cell_type": "code",
   "execution_count": 8,
   "id": "f11c5e5c",
   "metadata": {
    "execution": {
     "iopub.execute_input": "2025-10-31T02:41:45.061057Z",
     "iopub.status.busy": "2025-10-31T02:41:45.060635Z",
     "iopub.status.idle": "2025-10-31T02:41:45.073889Z",
     "shell.execute_reply": "2025-10-31T02:41:45.072837Z"
    },
    "papermill": {
     "duration": 0.018806,
     "end_time": "2025-10-31T02:41:45.075427",
     "exception": false,
     "start_time": "2025-10-31T02:41:45.056621",
     "status": "completed"
    },
    "tags": []
   },
   "outputs": [
    {
     "name": "stdout",
     "output_type": "stream",
     "text": [
      "           idade  salario\n",
      "idade    1.00000  0.98335\n",
      "salario  0.98335  1.00000\n"
     ]
    }
   ],
   "source": [
    "print(dados[[\"idade\", \"salario\"]].corr())"
   ]
  },
  {
   "cell_type": "markdown",
   "id": "437fb7aa",
   "metadata": {
    "papermill": {
     "duration": 0.002441,
     "end_time": "2025-10-31T02:41:45.080941",
     "exception": false,
     "start_time": "2025-10-31T02:41:45.078500",
     "status": "completed"
    },
    "tags": []
   },
   "source": [
    "<h2>📌 Frequência e Percentuais</h2>\n",
    "\n",
    "<p style='font-size:16px;'>Para entender a distribuição de categorias, use:</p>\n",
    "\n",
    "<p style='font-size:16px;'>Esses comandos mostram a contagem e o percentual de cada departamento.</p>"
   ]
  },
  {
   "cell_type": "code",
   "execution_count": 9,
   "id": "231a1f3d",
   "metadata": {
    "execution": {
     "iopub.execute_input": "2025-10-31T02:41:45.087556Z",
     "iopub.status.busy": "2025-10-31T02:41:45.087200Z",
     "iopub.status.idle": "2025-10-31T02:41:45.098083Z",
     "shell.execute_reply": "2025-10-31T02:41:45.096577Z"
    },
    "papermill": {
     "duration": 0.016206,
     "end_time": "2025-10-31T02:41:45.099597",
     "exception": false,
     "start_time": "2025-10-31T02:41:45.083391",
     "status": "completed"
    },
    "tags": []
   },
   "outputs": [
    {
     "name": "stdout",
     "output_type": "stream",
     "text": [
      "departamento\n",
      "TI            4\n",
      "RH            3\n",
      "Financeiro    3\n",
      "Name: count, dtype: int64\n",
      "departamento\n",
      "TI            40.0\n",
      "RH            30.0\n",
      "Financeiro    30.0\n",
      "Name: proportion, dtype: float64\n"
     ]
    }
   ],
   "source": [
    "# Frequência:\n",
    "print(dados[\"departamento\"].value_counts())\n",
    "\n",
    "# Percentual:\n",
    "print(dados[\"departamento\"].value_counts(normalize=True) * 100)"
   ]
  },
  {
   "cell_type": "markdown",
   "id": "18371e09",
   "metadata": {
    "papermill": {
     "duration": 0.002382,
     "end_time": "2025-10-31T02:41:45.104788",
     "exception": false,
     "start_time": "2025-10-31T02:41:45.102406",
     "status": "completed"
    },
    "tags": []
   },
   "source": [
    "<h2>📌 Conclusão</h2>\n",
    "\n",
    "<p style='font-size:16px;'>O Pandas facilita muito o trabalho com estatísticas em Python. Com poucos comandos, você pode obter informações valiosas sobre médias, dispersões, correlações e muito mais — tudo de forma rápida e intuitiva.</p>\n",
    "\n",
    "<p style='font-size:16px;'>Essas ferramentas são a base para análises exploratórias, relatórios de negócios e até para preparar dados antes de aplicar algoritmos de Aprendizado de Máquina.</p>"
   ]
  }
 ],
 "metadata": {
  "kaggle": {
   "accelerator": "none",
   "dataSources": [],
   "dockerImageVersionId": 31153,
   "isGpuEnabled": false,
   "isInternetEnabled": true,
   "language": "python",
   "sourceType": "notebook"
  },
  "kernelspec": {
   "display_name": "Python 3",
   "language": "python",
   "name": "python3"
  },
  "language_info": {
   "codemirror_mode": {
    "name": "ipython",
    "version": 3
   },
   "file_extension": ".py",
   "mimetype": "text/x-python",
   "name": "python",
   "nbconvert_exporter": "python",
   "pygments_lexer": "ipython3",
   "version": "3.11.13"
  },
  "papermill": {
   "default_parameters": {},
   "duration": 7.267968,
   "end_time": "2025-10-31T02:41:45.731251",
   "environment_variables": {},
   "exception": null,
   "input_path": "__notebook__.ipynb",
   "output_path": "__notebook__.ipynb",
   "parameters": {},
   "start_time": "2025-10-31T02:41:38.463283",
   "version": "2.6.0"
  }
 },
 "nbformat": 4,
 "nbformat_minor": 5
}
